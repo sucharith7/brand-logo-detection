{
 "cells": [
  {
   "cell_type": "markdown",
   "metadata": {},
   "source": [
    "# Brand logo detection of dp and hp images "
   ]
  },
  {
   "cell_type": "markdown",
   "metadata": {},
   "source": [
    "This is clearly the image classification model \n",
    "this model has been built by using cnn librabry\n"
   ]
  },
  {
   "cell_type": "markdown",
   "metadata": {},
   "source": [
    "The article is about creating an Image classifier for identifying dp-vs-hp using TFLearn in Python. The problem is here hosted on kaggle.\n",
    "\n",
    "Machine Learning is now one of the most hot topics around the world. Well, it can even be said as the new electricity in today’s world. But to be precise what is Machine Learning, well it’s just one way of teaching the machine by feeding the large amount of data. To know more about Machine learning and its algorithms you can refer to some links that is provided in the Reference sections of this article.\n",
    "\n",
    "Today, we will create a Image Classifier of our own which can distinguish whether a given pic is of a dog or cat or something else depending upon your fed data. To achieve our goal, we will use one of the famous machine learning algorithms out there which is used for Image Classification i.e. Convolutional Neural Network(or CNN).\n",
    "So basically what is CNN – as we know its a machine learning algorithm for machines to understand the features of the image with foresight and remember the features to guess whether the name of the new image fed to the machine. Since its not an article explaining the CNN so I’ll add some links in the end if you guys are interested how CNN works and behaves.\n",
    "\n",
    "\n",
    "\n",
    " \n",
    "\n",
    "So after going through all those links let us see how to create our very own cat-vs-dog image classifier. For the dataset we will use the kaggle dataset of cat-vs-dog:\n",
    "\n",
    " \n",
    "Libraries Required :\n",
    "\n",
    "TFLearn – Deep learning library featuring a higher-level API for TensorFlow used to create layers of our CNN\n",
    "tqdm – Instantly make your loops show a smart progress meter, just for simple designing sake\n",
    "numpy – To process the image matrices\n",
    "open-cv – To process the image like converting them to grayscale and etc.\n",
    "os – To access the file system to read the image from the train and test directory from our machines\n",
    "random – To shuffle the data to overcome the biasing\n",
    "matplotlib – To display the result of our predictive outcome.\n",
    "tensorflow – Just to use the tensorboard to compare the loss and adam curve our result data or obtained log.\n",
    "TRAIN_DIR and TEST_DIR should be set according to the user convenience and play with the basic hyperparameters like epoch, learning rate, etc to improve the accuracy. I have converted the image to grayscale so that we will only have to deal with 2-d matrix otherwise 3-d matrix is tough to directly apply CNN to, especially not recommended for beginners. Below here is the code which is heavily commented or otherwise you can find the code here in my GitHub account from this link."
   ]
  },
  {
   "cell_type": "markdown",
   "metadata": {},
   "source": [
    "### import libraries"
   ]
  },
  {
   "cell_type": "code",
   "execution_count": 0,
   "metadata": {
    "colab": {},
    "colab_type": "code",
    "id": "tQgoMLqivb7v"
   },
   "outputs": [],
   "source": [
    "import numpy as np\n",
    "import tensorflow as tf\n",
    "from tensorflow.keras.preprocessing.image import ImageDataGenerator\n",
    "from tensorflow.keras.preprocessing.image import load_img\n",
    "from tensorflow.keras.preprocessing.image import img_to_array\n",
    "from tensorflow.keras.models import Sequential\n",
    "from tensorflow.keras import layers"
   ]
  },
  {
   "cell_type": "markdown",
   "metadata": {
    "colab_type": "text",
    "id": "GoIhCHpbRtcp"
   },
   "source": [
    "# New Section"
   ]
  },
  {
   "cell_type": "code",
   "execution_count": 0,
   "metadata": {
    "colab": {},
    "colab_type": "code",
    "id": "Tt36sTTew8dC"
   },
   "outputs": [],
   "source": [
    "from tensorflow.keras.preprocessing.image import ImageDataGenerator"
   ]
  },
  {
   "cell_type": "code",
   "execution_count": 0,
   "metadata": {
    "colab": {},
    "colab_type": "code",
    "id": "PckMf3x9xBHq"
   },
   "outputs": [],
   "source": [
    "train_folder = '/content/drive/My Drive/Brand_logo_detection/Train_Set'\n",
    "test_folder = '/content/drive/My Drive/Brand_logo_detection/Test_Set'"
   ]
  },
  {
   "cell_type": "code",
   "execution_count": 0,
   "metadata": {
    "colab": {},
    "colab_type": "code",
    "id": "o7JCZ-U4xaFi"
   },
   "outputs": [],
   "source": [
    "#pip uninstall tensorflow==2.0"
   ]
  },
  {
   "cell_type": "code",
   "execution_count": 0,
   "metadata": {
    "colab": {},
    "colab_type": "code",
    "id": "MnAMKP18S-Jr"
   },
   "outputs": [],
   "source": [
    "#pip install tensorflow==1.14"
   ]
  },
  {
   "cell_type": "code",
   "execution_count": 0,
   "metadata": {
    "colab": {},
    "colab_type": "code",
    "id": "s-KOYnjkxdsc"
   },
   "outputs": [],
   "source": [
    "\n",
    "train_datagen = ImageDataGenerator(rescale = 1./255)\n",
    "test_datagen = ImageDataGenerator(rescale = 1./255)"
   ]
  },
  {
   "cell_type": "code",
   "execution_count": 0,
   "metadata": {
    "colab": {
     "base_uri": "https://localhost:8080/",
     "height": 34
    },
    "colab_type": "code",
    "id": "VQ27iHLcyMTJ",
    "outputId": "c11f787c-61ce-413c-bf4f-74dda07d2a1e"
   },
   "outputs": [
    {
     "name": "stdout",
     "output_type": "stream",
     "text": [
      "Found 1528 images belonging to 2 classes.\n"
     ]
    }
   ],
   "source": [
    "train_data = train_datagen.flow_from_directory(train_folder, target_size = (64, 64), batch_size = 1528, class_mode = 'binary')"
   ]
  },
  {
   "cell_type": "code",
   "execution_count": 0,
   "metadata": {
    "colab": {
     "base_uri": "https://localhost:8080/",
     "height": 34
    },
    "colab_type": "code",
    "id": "QHa84sDWyV42",
    "outputId": "9c4db437-8a1c-4bfa-8c63-1edbcf81f45d"
   },
   "outputs": [
    {
     "name": "stdout",
     "output_type": "stream",
     "text": [
      "Found 60 images belonging to 2 classes.\n"
     ]
    }
   ],
   "source": [
    "test_data = test_datagen.flow_from_directory(test_folder, target_size = (64, 64), batch_size = 60, class_mode = 'binary')"
   ]
  },
  {
   "cell_type": "code",
   "execution_count": 0,
   "metadata": {
    "colab": {
     "base_uri": "https://localhost:8080/",
     "height": 34
    },
    "colab_type": "code",
    "id": "F3sxdkqtTdCp",
    "outputId": "8136bcca-4944-4bf8-8c3e-595c73eeb6f6"
   },
   "outputs": [
    {
     "name": "stdout",
     "output_type": "stream",
     "text": [
      "Drive already mounted at /content/drive; to attempt to forcibly remount, call drive.mount(\"/content/drive\", force_remount=True).\n"
     ]
    }
   ],
   "source": [
    "from google.colab import drive\n",
    "drive.mount('/content/drive')"
   ]
  },
  {
   "cell_type": "code",
   "execution_count": 0,
   "metadata": {
    "colab": {
     "base_uri": "https://localhost:8080/",
     "height": 34
    },
    "colab_type": "code",
    "id": "OYiKB5RzVEoN",
    "outputId": "85551814-5f6c-4d28-fa80-b2660bcd6d28"
   },
   "outputs": [
    {
     "data": {
      "text/plain": [
       "keras_preprocessing.image.directory_iterator.DirectoryIterator"
      ]
     },
     "execution_count": 41,
     "metadata": {
      "tags": []
     },
     "output_type": "execute_result"
    }
   ],
   "source": [
    "type(train_data)"
   ]
  },
  {
   "cell_type": "code",
   "execution_count": 0,
   "metadata": {
    "colab": {},
    "colab_type": "code",
    "id": "pPiuV7YeVHuG"
   },
   "outputs": [],
   "source": [
    "x_train, y_train = train_data.next()"
   ]
  },
  {
   "cell_type": "code",
   "execution_count": 0,
   "metadata": {
    "colab": {
     "base_uri": "https://localhost:8080/",
     "height": 34
    },
    "colab_type": "code",
    "id": "IIOxw9kaVLJ3",
    "outputId": "8e50fce1-8b3e-4dad-e390-9e3b457a5411"
   },
   "outputs": [
    {
     "name": "stdout",
     "output_type": "stream",
     "text": [
      "(1528, 64, 64, 3) (1528,)\n"
     ]
    }
   ],
   "source": [
    "print(x_train.shape, y_train.shape)"
   ]
  },
  {
   "cell_type": "code",
   "execution_count": 0,
   "metadata": {
    "colab": {},
    "colab_type": "code",
    "id": "pe_bQUVzVOO6"
   },
   "outputs": [],
   "source": [
    "x_test, y_test = test_data.next()"
   ]
  },
  {
   "cell_type": "code",
   "execution_count": 0,
   "metadata": {
    "colab": {
     "base_uri": "https://localhost:8080/",
     "height": 34
    },
    "colab_type": "code",
    "id": "TJQz8g9IVROV",
    "outputId": "523db3d8-af88-41f5-b414-071911911247"
   },
   "outputs": [
    {
     "name": "stdout",
     "output_type": "stream",
     "text": [
      "(60, 64, 64, 3) (60,)\n"
     ]
    }
   ],
   "source": [
    "print(x_test.shape, y_test.shape)"
   ]
  },
  {
   "cell_type": "code",
   "execution_count": 0,
   "metadata": {
    "colab": {},
    "colab_type": "code",
    "id": "TBC4mE76Vl_T"
   },
   "outputs": [],
   "source": [
    "import matplotlib.image as mpimg\n",
    "import matplotlib.pyplot as plt\n",
    "import seaborn as sns\n",
    "%matplotlib inline"
   ]
  },
  {
   "cell_type": "markdown",
   "metadata": {},
   "source": [
    "### plot the image of train "
   ]
  },
  {
   "cell_type": "code",
   "execution_count": 0,
   "metadata": {
    "colab": {
     "base_uri": "https://localhost:8080/",
     "height": 268
    },
    "colab_type": "code",
    "id": "debL23vSZYMg",
    "outputId": "5346927b-7913-4496-914f-b49fad8f1905"
   },
   "outputs": [
    {
     "data": {
      "image/png": "[encoded data removed]",
      "text/plain": [
       "<Figure size 432x288 with 1 Axes>"
      ]
     },
     "metadata": {
      "tags": []
     },
     "output_type": "display_data"
    }
   ],
   "source": [
    "plt.imshow(x_train[1])\n",
    "plt.show()"
   ]
  },
  {
   "cell_type": "code",
   "execution_count": 0,
   "metadata": {
    "colab": {
     "base_uri": "https://localhost:8080/",
     "height": 34
    },
    "colab_type": "code",
    "id": "aRfB3PiTtDlN",
    "outputId": "dc326f03-089e-4935-edf0-a6222a0f71db"
   },
   "outputs": [
    {
     "name": "stdout",
     "output_type": "stream",
     "text": [
      "(1528, 64, 64, 3)\n"
     ]
    }
   ],
   "source": [
    "x_train = x_train.astype('float32') / 255\n",
    "print(x_train.shape)"
   ]
  },
  {
   "cell_type": "code",
   "execution_count": 0,
   "metadata": {
    "colab": {
     "base_uri": "https://localhost:8080/",
     "height": 34
    },
    "colab_type": "code",
    "id": "f_k8h1VOtEI-",
    "outputId": "91889948-f398-4993-ca43-3c5b6d021984"
   },
   "outputs": [
    {
     "name": "stdout",
     "output_type": "stream",
     "text": [
      "(60, 64, 64, 3)\n"
     ]
    }
   ],
   "source": [
    "x_test = x_test.astype('float32') / 255\n",
    "print(x_test.shape)"
   ]
  },
  {
   "cell_type": "code",
   "execution_count": 0,
   "metadata": {
    "colab": {
     "base_uri": "https://localhost:8080/",
     "height": 34
    },
    "colab_type": "code",
    "id": "3DGnLszuZb7I",
    "outputId": "f4287176-23f1-4998-9c99-1f56b2127b1d"
   },
   "outputs": [
    {
     "data": {
      "text/plain": [
       "array([0., 1.], dtype=float32)"
      ]
     },
     "execution_count": 50,
     "metadata": {
      "tags": []
     },
     "output_type": "execute_result"
    }
   ],
   "source": [
    "np.unique(y_train)"
   ]
  },
  {
   "cell_type": "code",
   "execution_count": 0,
   "metadata": {
    "colab": {
     "base_uri": "https://localhost:8080/",
     "height": 840
    },
    "colab_type": "code",
    "id": "Yot4lPh2ZlrM",
    "outputId": "96ae36bd-b05a-4272-aa4e-50a98ae781dc"
   },
   "outputs": [
    {
     "data": {
      "text/plain": [
       "array([[[0.00392157, 0.00392157, 0.00392157],\n",
       "        [0.00392157, 0.00392157, 0.00392157],\n",
       "        [0.00392157, 0.00392157, 0.00392157],\n",
       "        ...,\n",
       "        [0.00392157, 0.00392157, 0.00392157],\n",
       "        [0.00392157, 0.00392157, 0.00392157],\n",
       "        [0.00392157, 0.00392157, 0.00392157]],\n",
       "\n",
       "       [[0.00392157, 0.00392157, 0.00392157],\n",
       "        [0.00392157, 0.00392157, 0.00392157],\n",
       "        [0.00392157, 0.00392157, 0.00392157],\n",
       "        ...,\n",
       "        [0.00392157, 0.00392157, 0.00392157],\n",
       "        [0.00392157, 0.00392157, 0.00392157],\n",
       "        [0.00392157, 0.00392157, 0.00392157]],\n",
       "\n",
       "       [[0.00392157, 0.00392157, 0.00392157],\n",
       "        [0.00392157, 0.00392157, 0.00392157],\n",
       "        [0.00392157, 0.00392157, 0.00392157],\n",
       "        ...,\n",
       "        [0.00392157, 0.00392157, 0.00392157],\n",
       "        [0.00392157, 0.00392157, 0.00392157],\n",
       "        [0.00392157, 0.00392157, 0.00392157]],\n",
       "\n",
       "       ...,\n",
       "\n",
       "       [[0.00392157, 0.00392157, 0.00392157],\n",
       "        [0.00392157, 0.00392157, 0.00392157],\n",
       "        [0.00392157, 0.00392157, 0.00392157],\n",
       "        ...,\n",
       "        [0.00392157, 0.00392157, 0.00392157],\n",
       "        [0.00392157, 0.00392157, 0.00392157],\n",
       "        [0.00392157, 0.00392157, 0.00392157]],\n",
       "\n",
       "       [[0.00392157, 0.00392157, 0.00392157],\n",
       "        [0.00392157, 0.00392157, 0.00392157],\n",
       "        [0.00392157, 0.00392157, 0.00392157],\n",
       "        ...,\n",
       "        [0.00392157, 0.00392157, 0.00392157],\n",
       "        [0.00392157, 0.00392157, 0.00392157],\n",
       "        [0.00392157, 0.00392157, 0.00392157]],\n",
       "\n",
       "       [[0.00392157, 0.00392157, 0.00392157],\n",
       "        [0.00392157, 0.00392157, 0.00392157],\n",
       "        [0.00392157, 0.00392157, 0.00392157],\n",
       "        ...,\n",
       "        [0.00392157, 0.00392157, 0.00392157],\n",
       "        [0.00392157, 0.00392157, 0.00392157],\n",
       "        [0.00392157, 0.00392157, 0.00392157]]], dtype=float32)"
      ]
     },
     "execution_count": 24,
     "metadata": {
      "tags": []
     },
     "output_type": "execute_result"
    }
   ],
   "source": [
    "9x_train[0]"
   ]
  },
  {
   "cell_type": "markdown",
   "metadata": {},
   "source": [
    "### normalize the x train and y train"
   ]
  },
  {
   "cell_type": "code",
   "execution_count": 0,
   "metadata": {
    "colab": {},
    "colab_type": "code",
    "id": "4aPYZYgpZoqR"
   },
   "outputs": [],
   "source": [
    "x_train=x_train.astype('float32')\n",
    "x_test=x_test.astype('float32')\n",
    "x_train/=255\n",
    "x_test/=255"
   ]
  },
  {
   "cell_type": "code",
   "execution_count": 0,
   "metadata": {
    "colab": {
     "base_uri": "https://localhost:8080/",
     "height": 1000
    },
    "colab_type": "code",
    "id": "psuOoa_eZrbQ",
    "outputId": "66248340-f8d1-4939-827a-f0d5f2f29e35"
   },
   "outputs": [
    {
     "data": {
      "text/plain": [
       "array([[[[1.53787023e-05, 1.53787023e-05, 1.53787023e-05],\n",
       "         [1.53787023e-05, 1.53787023e-05, 1.53787023e-05],\n",
       "         [1.53787023e-05, 1.53787023e-05, 1.53787023e-05],\n",
       "         ...,\n",
       "         [1.53787023e-05, 1.53787023e-05, 1.53787023e-05],\n",
       "         [1.53787023e-05, 1.53787023e-05, 1.53787023e-05],\n",
       "         [1.53787023e-05, 1.53787023e-05, 1.53787023e-05]],\n",
       "\n",
       "        [[1.53787023e-05, 1.53787023e-05, 1.53787023e-05],\n",
       "         [1.53787023e-05, 1.53787023e-05, 1.53787023e-05],\n",
       "         [1.53787023e-05, 1.53787023e-05, 1.53787023e-05],\n",
       "         ...,\n",
       "         [1.53787023e-05, 1.53787023e-05, 1.53787023e-05],\n",
       "         [1.53787023e-05, 1.53787023e-05, 1.53787023e-05],\n",
       "         [1.53787023e-05, 1.53787023e-05, 1.53787023e-05]],\n",
       "\n",
       "        [[1.53787023e-05, 1.53787023e-05, 1.53787023e-05],\n",
       "         [1.53787023e-05, 1.53787023e-05, 1.53787023e-05],\n",
       "         [1.53787023e-05, 1.53787023e-05, 1.53787023e-05],\n",
       "         ...,\n",
       "         [1.53787023e-05, 1.53787023e-05, 1.53787023e-05],\n",
       "         [1.53787023e-05, 1.53787023e-05, 1.53787023e-05],\n",
       "         [1.53787023e-05, 1.53787023e-05, 1.53787023e-05]],\n",
       "\n",
       "        ...,\n",
       "\n",
       "        [[1.53787023e-05, 1.53787023e-05, 1.53787023e-05],\n",
       "         [1.53787023e-05, 1.53787023e-05, 1.53787023e-05],\n",
       "         [1.53787023e-05, 1.53787023e-05, 1.53787023e-05],\n",
       "         ...,\n",
       "         [1.53787023e-05, 1.53787023e-05, 1.53787023e-05],\n",
       "         [1.53787023e-05, 1.53787023e-05, 1.53787023e-05],\n",
       "         [1.53787023e-05, 1.53787023e-05, 1.53787023e-05]],\n",
       "\n",
       "        [[1.53787023e-05, 1.53787023e-05, 1.53787023e-05],\n",
       "         [1.53787023e-05, 1.53787023e-05, 1.53787023e-05],\n",
       "         [1.53787023e-05, 1.53787023e-05, 1.53787023e-05],\n",
       "         ...,\n",
       "         [1.53787023e-05, 1.53787023e-05, 1.53787023e-05],\n",
       "         [1.53787023e-05, 1.53787023e-05, 1.53787023e-05],\n",
       "         [1.53787023e-05, 1.53787023e-05, 1.53787023e-05]],\n",
       "\n",
       "        [[1.53787023e-05, 1.53787023e-05, 1.53787023e-05],\n",
       "         [1.53787023e-05, 1.53787023e-05, 1.53787023e-05],\n",
       "         [1.53787023e-05, 1.53787023e-05, 1.53787023e-05],\n",
       "         ...,\n",
       "         [1.53787023e-05, 1.53787023e-05, 1.53787023e-05],\n",
       "         [1.53787023e-05, 1.53787023e-05, 1.53787023e-05],\n",
       "         [1.53787023e-05, 1.53787023e-05, 1.53787023e-05]]],\n",
       "\n",
       "\n",
       "       [[[2.83450549e-06, 1.50771587e-06, 7.23703636e-07],\n",
       "         [2.95512314e-06, 1.50771587e-06, 7.84012229e-07],\n",
       "         [3.31697493e-06, 1.50771587e-06, 7.84012229e-07],\n",
       "         ...,\n",
       "         [4.22160429e-06, 1.92987636e-06, 1.14586408e-06],\n",
       "         [4.22160429e-06, 1.92987636e-06, 1.14586408e-06],\n",
       "         [4.22160429e-06, 1.92987636e-06, 1.14586408e-06]],\n",
       "\n",
       "        [[2.83450549e-06, 1.50771587e-06, 7.23703636e-07],\n",
       "         [3.01543173e-06, 1.50771587e-06, 7.23703636e-07],\n",
       "         [3.43759211e-06, 1.56802446e-06, 7.23703636e-07],\n",
       "         ...,\n",
       "         [4.22160429e-06, 1.92987636e-06, 1.14586408e-06],\n",
       "         [4.22160429e-06, 1.92987636e-06, 1.14586408e-06],\n",
       "         [4.22160429e-06, 1.92987636e-06, 1.14586408e-06]],\n",
       "\n",
       "        [[3.25666633e-06, 1.56802446e-06, 8.44320880e-07],\n",
       "         [3.43759211e-06, 1.68864176e-06, 9.04629530e-07],\n",
       "         [3.67882672e-06, 1.74895035e-06, 9.64938181e-07],\n",
       "         ...,\n",
       "         [4.34222147e-06, 1.99018496e-06, 9.64938181e-07],\n",
       "         [4.34222147e-06, 1.99018496e-06, 9.64938181e-07],\n",
       "         [4.34222147e-06, 1.99018496e-06, 9.64938181e-07]],\n",
       "\n",
       "        ...,\n",
       "\n",
       "        [[1.02524677e-06, 4.22160440e-07, 1.20617273e-07],\n",
       "         [1.02524677e-06, 4.22160440e-07, 1.20617273e-07],\n",
       "         [1.02524677e-06, 4.22160440e-07, 1.20617273e-07],\n",
       "         ...,\n",
       "         [1.32678986e-06, 6.03086335e-07, 1.80925909e-07],\n",
       "         [1.32678986e-06, 6.03086335e-07, 1.80925909e-07],\n",
       "         [1.32678986e-06, 6.03086335e-07, 1.80925909e-07]],\n",
       "\n",
       "        [[1.02524677e-06, 4.22160440e-07, 1.20617273e-07],\n",
       "         [1.02524677e-06, 4.22160440e-07, 1.20617273e-07],\n",
       "         [1.02524677e-06, 4.22160440e-07, 1.20617273e-07],\n",
       "         ...,\n",
       "         [1.32678986e-06, 6.03086335e-07, 1.80925909e-07],\n",
       "         [1.32678986e-06, 6.03086335e-07, 1.80925909e-07],\n",
       "         [1.32678986e-06, 6.03086335e-07, 1.80925909e-07]],\n",
       "\n",
       "        [[1.02524677e-06, 4.22160440e-07, 1.20617273e-07],\n",
       "         [1.02524677e-06, 4.22160440e-07, 1.20617273e-07],\n",
       "         [1.02524677e-06, 4.22160440e-07, 1.20617273e-07],\n",
       "         ...,\n",
       "         [1.32678986e-06, 6.03086335e-07, 1.80925909e-07],\n",
       "         [1.32678986e-06, 6.03086335e-07, 1.80925909e-07],\n",
       "         [1.32678986e-06, 6.03086335e-07, 1.80925909e-07]]],\n",
       "\n",
       "\n",
       "       [[[4.40253007e-06, 3.25666633e-06, 3.01543173e-06],\n",
       "         [4.40253007e-06, 3.25666633e-06, 3.01543173e-06],\n",
       "         [4.40253007e-06, 3.25666633e-06, 3.01543173e-06],\n",
       "         ...,\n",
       "         [3.37728352e-06, 2.23141933e-06, 1.99018496e-06],\n",
       "         [2.77419690e-06, 1.80925906e-06, 1.62833317e-06],\n",
       "         [2.53296253e-06, 1.68864176e-06, 1.50771587e-06]],\n",
       "\n",
       "        [[4.40253007e-06, 3.25666633e-06, 3.01543173e-06],\n",
       "         [4.40253007e-06, 3.25666633e-06, 3.01543173e-06],\n",
       "         [4.40253007e-06, 3.25666633e-06, 3.01543173e-06],\n",
       "         ...,\n",
       "         [3.37728352e-06, 2.23141933e-06, 1.99018496e-06],\n",
       "         [2.77419690e-06, 1.80925906e-06, 1.62833317e-06],\n",
       "         [2.53296253e-06, 1.68864176e-06, 1.50771587e-06]],\n",
       "\n",
       "        [[4.40253007e-06, 3.25666633e-06, 3.01543173e-06],\n",
       "         [4.40253007e-06, 3.25666633e-06, 3.01543173e-06],\n",
       "         [4.40253007e-06, 3.25666633e-06, 3.01543173e-06],\n",
       "         ...,\n",
       "         [3.37728352e-06, 2.23141933e-06, 1.99018496e-06],\n",
       "         [2.77419690e-06, 1.80925906e-06, 1.62833317e-06],\n",
       "         [2.53296253e-06, 1.68864176e-06, 1.50771587e-06]],\n",
       "\n",
       "        ...,\n",
       "\n",
       "        [[1.31472825e-05, 1.29060481e-05, 1.23632699e-05],\n",
       "         [1.31472825e-05, 1.29060481e-05, 1.23632699e-05],\n",
       "         [1.31472825e-05, 1.29060481e-05, 1.23632699e-05],\n",
       "         ...,\n",
       "         [1.39312942e-05, 1.36900599e-05, 1.30869739e-05],\n",
       "         [1.37503685e-05, 1.35091341e-05, 1.29663567e-05],\n",
       "         [1.38709856e-05, 1.36297513e-05, 1.30266653e-05]],\n",
       "\n",
       "        [[1.30869739e-05, 1.28457395e-05, 1.23029613e-05],\n",
       "         [1.30869739e-05, 1.28457395e-05, 1.23029613e-05],\n",
       "         [1.30869739e-05, 1.28457395e-05, 1.23029613e-05],\n",
       "         ...,\n",
       "         [1.39312942e-05, 1.36900599e-05, 1.30869739e-05],\n",
       "         [1.38106770e-05, 1.35694427e-05, 1.29663567e-05],\n",
       "         [1.40519123e-05, 1.38106770e-05, 1.32075911e-05]],\n",
       "\n",
       "        [[1.32075911e-05, 1.29663567e-05, 1.24235785e-05],\n",
       "         [1.32075911e-05, 1.29663567e-05, 1.24235785e-05],\n",
       "         [1.32075911e-05, 1.29663567e-05, 1.24235785e-05],\n",
       "         ...,\n",
       "         [1.39312942e-05, 1.36900599e-05, 1.30869739e-05],\n",
       "         [1.38106770e-05, 1.35694427e-05, 1.29663567e-05],\n",
       "         [1.39916028e-05, 1.37503685e-05, 1.32075911e-05]]],\n",
       "\n",
       "\n",
       "       ...,\n",
       "\n",
       "\n",
       "       [[[1.53787023e-05, 1.53787023e-05, 1.53787023e-05],\n",
       "         [1.53787023e-05, 1.53787023e-05, 1.53787023e-05],\n",
       "         [1.53787023e-05, 1.53787023e-05, 1.53787023e-05],\n",
       "         ...,\n",
       "         [1.53787023e-05, 1.53787023e-05, 1.53787023e-05],\n",
       "         [1.53787023e-05, 1.53787023e-05, 1.53787023e-05],\n",
       "         [1.53787023e-05, 1.53787023e-05, 1.53787023e-05]],\n",
       "\n",
       "        [[1.53787023e-05, 1.53787023e-05, 1.53787023e-05],\n",
       "         [1.53787023e-05, 1.53787023e-05, 1.53787023e-05],\n",
       "         [1.53787023e-05, 1.53787023e-05, 1.53787023e-05],\n",
       "         ...,\n",
       "         [1.53787023e-05, 1.53787023e-05, 1.53787023e-05],\n",
       "         [1.53787023e-05, 1.53787023e-05, 1.53787023e-05],\n",
       "         [1.53787023e-05, 1.53787023e-05, 1.53787023e-05]],\n",
       "\n",
       "        [[1.53787023e-05, 1.53787023e-05, 1.53787023e-05],\n",
       "         [1.53787023e-05, 1.53787023e-05, 1.53787023e-05],\n",
       "         [1.53787023e-05, 1.53787023e-05, 1.53787023e-05],\n",
       "         ...,\n",
       "         [1.53787023e-05, 1.53787023e-05, 1.53787023e-05],\n",
       "         [1.53787023e-05, 1.53787023e-05, 1.53787023e-05],\n",
       "         [1.53787023e-05, 1.53787023e-05, 1.53787023e-05]],\n",
       "\n",
       "        ...,\n",
       "\n",
       "        [[1.53787023e-05, 1.53787023e-05, 1.53787023e-05],\n",
       "         [1.53787023e-05, 1.53787023e-05, 1.53787023e-05],\n",
       "         [1.53787023e-05, 1.53787023e-05, 1.53787023e-05],\n",
       "         ...,\n",
       "         [1.53787023e-05, 1.53787023e-05, 1.53787023e-05],\n",
       "         [1.53787023e-05, 1.53787023e-05, 1.53787023e-05],\n",
       "         [1.53787023e-05, 1.53787023e-05, 1.53787023e-05]],\n",
       "\n",
       "        [[1.53787023e-05, 1.53787023e-05, 1.53787023e-05],\n",
       "         [1.53787023e-05, 1.53787023e-05, 1.53787023e-05],\n",
       "         [1.53787023e-05, 1.53787023e-05, 1.53787023e-05],\n",
       "         ...,\n",
       "         [1.53787023e-05, 1.53787023e-05, 1.53787023e-05],\n",
       "         [1.53787023e-05, 1.53787023e-05, 1.53787023e-05],\n",
       "         [1.53787023e-05, 1.53787023e-05, 1.53787023e-05]],\n",
       "\n",
       "        [[1.53787023e-05, 1.53787023e-05, 1.53787023e-05],\n",
       "         [1.53787023e-05, 1.53787023e-05, 1.53787023e-05],\n",
       "         [1.53787023e-05, 1.53787023e-05, 1.53787023e-05],\n",
       "         ...,\n",
       "         [1.53787023e-05, 1.53787023e-05, 1.53787023e-05],\n",
       "         [1.53787023e-05, 1.53787023e-05, 1.53787023e-05],\n",
       "         [1.53787023e-05, 1.53787023e-05, 1.53787023e-05]]],\n",
       "\n",
       "\n",
       "       [[[0.00000000e+00, 0.00000000e+00, 0.00000000e+00],\n",
       "         [0.00000000e+00, 0.00000000e+00, 0.00000000e+00],\n",
       "         [0.00000000e+00, 0.00000000e+00, 0.00000000e+00],\n",
       "         ...,\n",
       "         [0.00000000e+00, 0.00000000e+00, 0.00000000e+00],\n",
       "         [0.00000000e+00, 0.00000000e+00, 0.00000000e+00],\n",
       "         [0.00000000e+00, 0.00000000e+00, 0.00000000e+00]],\n",
       "\n",
       "        [[0.00000000e+00, 0.00000000e+00, 0.00000000e+00],\n",
       "         [0.00000000e+00, 0.00000000e+00, 0.00000000e+00],\n",
       "         [0.00000000e+00, 0.00000000e+00, 0.00000000e+00],\n",
       "         ...,\n",
       "         [0.00000000e+00, 0.00000000e+00, 0.00000000e+00],\n",
       "         [0.00000000e+00, 0.00000000e+00, 0.00000000e+00],\n",
       "         [0.00000000e+00, 0.00000000e+00, 0.00000000e+00]],\n",
       "\n",
       "        [[0.00000000e+00, 0.00000000e+00, 0.00000000e+00],\n",
       "         [0.00000000e+00, 0.00000000e+00, 0.00000000e+00],\n",
       "         [0.00000000e+00, 0.00000000e+00, 0.00000000e+00],\n",
       "         ...,\n",
       "         [0.00000000e+00, 4.82469090e-07, 9.04629530e-07],\n",
       "         [0.00000000e+00, 0.00000000e+00, 0.00000000e+00],\n",
       "         [0.00000000e+00, 0.00000000e+00, 0.00000000e+00]],\n",
       "\n",
       "        ...,\n",
       "\n",
       "        [[0.00000000e+00, 0.00000000e+00, 0.00000000e+00],\n",
       "         [0.00000000e+00, 0.00000000e+00, 0.00000000e+00],\n",
       "         [0.00000000e+00, 0.00000000e+00, 0.00000000e+00],\n",
       "         ...,\n",
       "         [0.00000000e+00, 0.00000000e+00, 0.00000000e+00],\n",
       "         [0.00000000e+00, 0.00000000e+00, 0.00000000e+00],\n",
       "         [0.00000000e+00, 0.00000000e+00, 0.00000000e+00]],\n",
       "\n",
       "        [[0.00000000e+00, 0.00000000e+00, 0.00000000e+00],\n",
       "         [0.00000000e+00, 0.00000000e+00, 0.00000000e+00],\n",
       "         [0.00000000e+00, 0.00000000e+00, 0.00000000e+00],\n",
       "         ...,\n",
       "         [0.00000000e+00, 0.00000000e+00, 0.00000000e+00],\n",
       "         [0.00000000e+00, 0.00000000e+00, 0.00000000e+00],\n",
       "         [0.00000000e+00, 0.00000000e+00, 0.00000000e+00]],\n",
       "\n",
       "        [[0.00000000e+00, 0.00000000e+00, 0.00000000e+00],\n",
       "         [0.00000000e+00, 0.00000000e+00, 0.00000000e+00],\n",
       "         [0.00000000e+00, 0.00000000e+00, 0.00000000e+00],\n",
       "         ...,\n",
       "         [0.00000000e+00, 0.00000000e+00, 0.00000000e+00],\n",
       "         [0.00000000e+00, 0.00000000e+00, 0.00000000e+00],\n",
       "         [0.00000000e+00, 0.00000000e+00, 0.00000000e+00]]],\n",
       "\n",
       "\n",
       "       [[[1.53787023e-05, 1.53787023e-05, 1.53787023e-05],\n",
       "         [1.53787023e-05, 1.53787023e-05, 1.53787023e-05],\n",
       "         [1.53787023e-05, 1.53787023e-05, 1.53787023e-05],\n",
       "         ...,\n",
       "         [1.53787023e-05, 1.53787023e-05, 1.53787023e-05],\n",
       "         [1.53787023e-05, 1.53787023e-05, 1.53787023e-05],\n",
       "         [1.53787023e-05, 1.53787023e-05, 1.53787023e-05]],\n",
       "\n",
       "        [[1.53787023e-05, 1.53787023e-05, 1.53787023e-05],\n",
       "         [1.53787023e-05, 1.53787023e-05, 1.53787023e-05],\n",
       "         [1.53787023e-05, 1.53787023e-05, 1.53787023e-05],\n",
       "         ...,\n",
       "         [1.53787023e-05, 1.53787023e-05, 1.53787023e-05],\n",
       "         [1.53787023e-05, 1.53787023e-05, 1.53787023e-05],\n",
       "         [1.53787023e-05, 1.53787023e-05, 1.53787023e-05]],\n",
       "\n",
       "        [[1.53787023e-05, 1.53787023e-05, 1.53787023e-05],\n",
       "         [1.53787023e-05, 1.53787023e-05, 1.53787023e-05],\n",
       "         [1.53787023e-05, 1.53787023e-05, 1.53787023e-05],\n",
       "         ...,\n",
       "         [1.53787023e-05, 1.53787023e-05, 1.53787023e-05],\n",
       "         [1.53787023e-05, 1.53787023e-05, 1.53787023e-05],\n",
       "         [1.53787023e-05, 1.53787023e-05, 1.53787023e-05]],\n",
       "\n",
       "        ...,\n",
       "\n",
       "        [[1.53787023e-05, 1.53787023e-05, 1.53787023e-05],\n",
       "         [1.53787023e-05, 1.53787023e-05, 1.53787023e-05],\n",
       "         [1.53787023e-05, 1.53787023e-05, 1.53787023e-05],\n",
       "         ...,\n",
       "         [1.53787023e-05, 1.53787023e-05, 1.53787023e-05],\n",
       "         [1.53787023e-05, 1.53787023e-05, 1.53787023e-05],\n",
       "         [1.53787023e-05, 1.53787023e-05, 1.53787023e-05]],\n",
       "\n",
       "        [[1.53787023e-05, 1.53787023e-05, 1.53787023e-05],\n",
       "         [1.53787023e-05, 1.53787023e-05, 1.53787023e-05],\n",
       "         [1.53787023e-05, 1.53787023e-05, 1.53787023e-05],\n",
       "         ...,\n",
       "         [1.53787023e-05, 1.53787023e-05, 1.53787023e-05],\n",
       "         [1.53787023e-05, 1.53787023e-05, 1.53787023e-05],\n",
       "         [1.53787023e-05, 1.53787023e-05, 1.53787023e-05]],\n",
       "\n",
       "        [[1.53787023e-05, 1.53787023e-05, 1.53787023e-05],\n",
       "         [1.53787023e-05, 1.53787023e-05, 1.53787023e-05],\n",
       "         [1.53787023e-05, 1.53787023e-05, 1.53787023e-05],\n",
       "         ...,\n",
       "         [1.53787023e-05, 1.53787023e-05, 1.53787023e-05],\n",
       "         [1.53787023e-05, 1.53787023e-05, 1.53787023e-05],\n",
       "         [1.53787023e-05, 1.53787023e-05, 1.53787023e-05]]]],\n",
       "      dtype=float32)"
      ]
     },
     "execution_count": 26,
     "metadata": {
      "tags": []
     },
     "output_type": "execute_result"
    }
   ],
   "source": [
    "x_train"
   ]
  },
  {
   "cell_type": "code",
   "execution_count": 0,
   "metadata": {
    "colab": {},
    "colab_type": "code",
    "id": "8IK0G5y1ZuCs"
   },
   "outputs": [],
   "source": [
    "from tensorflow.keras import models,layers"
   ]
  },
  {
   "cell_type": "code",
   "execution_count": 0,
   "metadata": {
    "colab": {
     "base_uri": "https://localhost:8080/",
     "height": 34
    },
    "colab_type": "code",
    "id": "1iwxKe-8ZzDD",
    "outputId": "21ffc72f-e12e-4953-f3f5-718b2815eb8e"
   },
   "outputs": [
    {
     "data": {
      "text/plain": [
       "(1528, 64, 64, 3)"
      ]
     },
     "execution_count": 52,
     "metadata": {
      "tags": []
     },
     "output_type": "execute_result"
    }
   ],
   "source": [
    "x_train.shape"
   ]
  },
  {
   "cell_type": "markdown",
   "metadata": {},
   "source": [
    "### built the convolutional layers of the model that will increase the accuracy"
   ]
  },
  {
   "cell_type": "code",
   "execution_count": 0,
   "metadata": {
    "colab": {
     "base_uri": "https://localhost:8080/",
     "height": 87
    },
    "colab_type": "code",
    "id": "PxKNfq5DZ1KX",
    "outputId": "eb1c0c6d-8fdf-4574-966f-702eed2a779f"
   },
   "outputs": [
    {
     "name": "stdout",
     "output_type": "stream",
     "text": [
      "WARNING:tensorflow:From /usr/local/lib/python3.6/dist-packages/tensorflow_core/python/ops/resource_variable_ops.py:1630: calling BaseResourceVariable.__init__ (from tensorflow.python.ops.resource_variable_ops) with constraint is deprecated and will be removed in a future version.\n",
      "Instructions for updating:\n",
      "If using Keras pass *_constraint arguments to layers.\n"
     ]
    }
   ],
   "source": [
    "model=models.Sequential()\n",
    "\n",
    "model.add(layers.Conv2D(16,(3,3),activation='relu',input_shape=(64,64,3)))\n",
    "model.add(layers.MaxPooling2D(2,2))\n",
    "model.add(layers.Conv2D(64,(3,3),activation='relu',input_shape=(64,64,3)))\n",
    "model.add(layers.MaxPooling2D(2,2))\n",
    "model.add(layers.Conv2D(128,(3,3),activation='relu',input_shape=(64,64,3)))\n",
    "model.add(layers.MaxPooling2D(2,2))\n",
    "model.add(layers.Flatten())\n",
    "model.add(layers.Dense(64,activation='relu'))\n",
    "model.add(layers.Dense(1,activation='sigmoid'))"
   ]
  },
  {
   "cell_type": "code",
   "execution_count": 0,
   "metadata": {
    "colab": {
     "base_uri": "https://localhost:8080/",
     "height": 87
    },
    "colab_type": "code",
    "id": "kIvH52mpaBCF",
    "outputId": "930eba84-2db9-403c-fa06-0015e69c4c23"
   },
   "outputs": [
    {
     "name": "stdout",
     "output_type": "stream",
     "text": [
      "WARNING:tensorflow:From /usr/local/lib/python3.6/dist-packages/tensorflow_core/python/ops/nn_impl.py:183: where (from tensorflow.python.ops.array_ops) is deprecated and will be removed in a future version.\n",
      "Instructions for updating:\n",
      "Use tf.where in 2.0, which has the same broadcast rule as np.where\n"
     ]
    }
   ],
   "source": [
    "model.compile(optimizer='adam',loss='binary_crossentropy',metrics=['accuracy'])"
   ]
  },
  {
   "cell_type": "code",
   "execution_count": 0,
   "metadata": {
    "colab": {
     "base_uri": "https://localhost:8080/",
     "height": 454
    },
    "colab_type": "code",
    "id": "h_DuhwVnax_H",
    "outputId": "1a033711-0cd9-480f-838d-f6f205fb80a6"
   },
   "outputs": [
    {
     "name": "stdout",
     "output_type": "stream",
     "text": [
      "Model: \"sequential\"\n",
      "_________________________________________________________________\n",
      "Layer (type)                 Output Shape              Param #   \n",
      "=================================================================\n",
      "conv2d (Conv2D)              (None, 62, 62, 16)        448       \n",
      "_________________________________________________________________\n",
      "max_pooling2d (MaxPooling2D) (None, 31, 31, 16)        0         \n",
      "_________________________________________________________________\n",
      "conv2d_1 (Conv2D)            (None, 29, 29, 64)        9280      \n",
      "_________________________________________________________________\n",
      "max_pooling2d_1 (MaxPooling2 (None, 14, 14, 64)        0         \n",
      "_________________________________________________________________\n",
      "conv2d_2 (Conv2D)            (None, 12, 12, 128)       73856     \n",
      "_________________________________________________________________\n",
      "max_pooling2d_2 (MaxPooling2 (None, 6, 6, 128)         0         \n",
      "_________________________________________________________________\n",
      "flatten (Flatten)            (None, 4608)              0         \n",
      "_________________________________________________________________\n",
      "dense (Dense)                (None, 64)                294976    \n",
      "_________________________________________________________________\n",
      "dense_1 (Dense)              (None, 1)                 65        \n",
      "=================================================================\n",
      "Total params: 378,625\n",
      "Trainable params: 378,625\n",
      "Non-trainable params: 0\n",
      "_________________________________________________________________\n"
     ]
    }
   ],
   "source": [
    "\n",
    "model.summary()"
   ]
  },
  {
   "cell_type": "code",
   "execution_count": 0,
   "metadata": {
    "colab": {
     "base_uri": "https://localhost:8080/",
     "height": 1000
    },
    "colab_type": "code",
    "id": "YRd-n13ka2Sy",
    "outputId": "606c099c-a7b4-45d8-eccc-fad0bdb87de2"
   },
   "outputs": [
    {
     "name": "stdout",
     "output_type": "stream",
     "text": [
      "Train on 1375 samples, validate on 153 samples\n",
      "Epoch 1/80\n",
      "1375/1375 [==============================] - 8s 6ms/sample - loss: 0.6937 - acc: 0.4967 - val_loss: 0.6931 - val_acc: 0.5098\n",
      "Epoch 2/80\n",
      "1375/1375 [==============================] - 8s 6ms/sample - loss: 0.6931 - acc: 0.4931 - val_loss: 0.6928 - val_acc: 0.4902\n",
      "Epoch 3/80\n",
      "1375/1375 [==============================] - 8s 6ms/sample - loss: 0.6458 - acc: 0.6262 - val_loss: 0.4670 - val_acc: 0.7908\n",
      "Epoch 4/80\n",
      "1375/1375 [==============================] - 8s 6ms/sample - loss: 0.4800 - acc: 0.7644 - val_loss: 0.4067 - val_acc: 0.8039\n",
      "Epoch 5/80\n",
      "1375/1375 [==============================] - 8s 6ms/sample - loss: 0.4177 - acc: 0.7949 - val_loss: 0.3562 - val_acc: 0.8627\n",
      "Epoch 6/80\n",
      "1375/1375 [==============================] - 8s 6ms/sample - loss: 0.3699 - acc: 0.8335 - val_loss: 0.3223 - val_acc: 0.8562\n",
      "Epoch 7/80\n",
      "1375/1375 [==============================] - 8s 6ms/sample - loss: 0.3316 - acc: 0.8560 - val_loss: 0.3446 - val_acc: 0.8366\n",
      "Epoch 8/80\n",
      "1375/1375 [==============================] - 8s 6ms/sample - loss: 0.3121 - acc: 0.8669 - val_loss: 0.2729 - val_acc: 0.8562\n",
      "Epoch 9/80\n",
      "1375/1375 [==============================] - 8s 6ms/sample - loss: 0.2850 - acc: 0.8764 - val_loss: 0.3681 - val_acc: 0.8497\n",
      "Epoch 10/80\n",
      "1375/1375 [==============================] - 8s 6ms/sample - loss: 0.2854 - acc: 0.8691 - val_loss: 0.2584 - val_acc: 0.8954\n",
      "Epoch 11/80\n",
      "1375/1375 [==============================] - 8s 6ms/sample - loss: 0.2753 - acc: 0.8844 - val_loss: 0.2440 - val_acc: 0.8954\n",
      "Epoch 12/80\n",
      "1375/1375 [==============================] - 8s 6ms/sample - loss: 0.2497 - acc: 0.8945 - val_loss: 0.2303 - val_acc: 0.8954\n",
      "Epoch 13/80\n",
      "1375/1375 [==============================] - 8s 6ms/sample - loss: 0.2427 - acc: 0.8916 - val_loss: 0.2732 - val_acc: 0.9150\n",
      "Epoch 14/80\n",
      "1375/1375 [==============================] - 8s 6ms/sample - loss: 0.2174 - acc: 0.9105 - val_loss: 0.2632 - val_acc: 0.9150\n",
      "Epoch 15/80\n",
      "1375/1375 [==============================] - 8s 6ms/sample - loss: 0.2089 - acc: 0.9156 - val_loss: 0.2472 - val_acc: 0.9150\n",
      "Epoch 16/80\n",
      "1375/1375 [==============================] - 8s 6ms/sample - loss: 0.1905 - acc: 0.9280 - val_loss: 0.2146 - val_acc: 0.9085\n",
      "Epoch 17/80\n",
      "1375/1375 [==============================] - 8s 6ms/sample - loss: 0.1807 - acc: 0.9338 - val_loss: 0.2001 - val_acc: 0.9085\n",
      "Epoch 18/80\n",
      "1375/1375 [==============================] - 8s 6ms/sample - loss: 0.1775 - acc: 0.9265 - val_loss: 0.2045 - val_acc: 0.9085\n",
      "Epoch 19/80\n",
      "1375/1375 [==============================] - 8s 6ms/sample - loss: 0.1812 - acc: 0.9258 - val_loss: 0.2166 - val_acc: 0.9216\n",
      "Epoch 20/80\n",
      "1375/1375 [==============================] - 8s 6ms/sample - loss: 0.1632 - acc: 0.9353 - val_loss: 0.1983 - val_acc: 0.9216\n",
      "Epoch 21/80\n",
      "1375/1375 [==============================] - 8s 6ms/sample - loss: 0.1586 - acc: 0.9382 - val_loss: 0.2002 - val_acc: 0.9085\n",
      "Epoch 22/80\n",
      "1375/1375 [==============================] - 8s 6ms/sample - loss: 0.1375 - acc: 0.9505 - val_loss: 0.1996 - val_acc: 0.9346\n",
      "Epoch 23/80\n",
      "1375/1375 [==============================] - 8s 6ms/sample - loss: 0.1335 - acc: 0.9564 - val_loss: 0.2427 - val_acc: 0.9020\n",
      "Epoch 24/80\n",
      "1375/1375 [==============================] - 8s 6ms/sample - loss: 0.1208 - acc: 0.9549 - val_loss: 0.1777 - val_acc: 0.9412\n",
      "Epoch 25/80\n",
      "1375/1375 [==============================] - 8s 6ms/sample - loss: 0.1404 - acc: 0.9476 - val_loss: 0.2342 - val_acc: 0.9281\n",
      "Epoch 26/80\n",
      "1375/1375 [==============================] - 8s 6ms/sample - loss: 0.1174 - acc: 0.9585 - val_loss: 0.1743 - val_acc: 0.9412\n",
      "Epoch 27/80\n",
      "1375/1375 [==============================] - 8s 6ms/sample - loss: 0.1048 - acc: 0.9629 - val_loss: 0.3354 - val_acc: 0.8758\n",
      "Epoch 28/80\n",
      "1375/1375 [==============================] - 8s 6ms/sample - loss: 0.1489 - acc: 0.9418 - val_loss: 0.2660 - val_acc: 0.8693\n",
      "Epoch 29/80\n",
      "1375/1375 [==============================] - 8s 6ms/sample - loss: 0.1168 - acc: 0.9505 - val_loss: 0.1793 - val_acc: 0.9412\n",
      "Epoch 30/80\n",
      "1375/1375 [==============================] - 8s 6ms/sample - loss: 0.0945 - acc: 0.9680 - val_loss: 0.1723 - val_acc: 0.9412\n",
      "Epoch 31/80\n",
      "1375/1375 [==============================] - 8s 6ms/sample - loss: 0.0884 - acc: 0.9658 - val_loss: 0.1741 - val_acc: 0.9542\n",
      "Epoch 32/80\n",
      "1375/1375 [==============================] - 8s 6ms/sample - loss: 0.0802 - acc: 0.9665 - val_loss: 0.1968 - val_acc: 0.9412\n",
      "Epoch 33/80\n",
      "1375/1375 [==============================] - 8s 6ms/sample - loss: 0.0753 - acc: 0.9731 - val_loss: 0.1797 - val_acc: 0.9346\n",
      "Epoch 34/80\n",
      "1375/1375 [==============================] - 8s 6ms/sample - loss: 0.0643 - acc: 0.9796 - val_loss: 0.1741 - val_acc: 0.9477\n",
      "Epoch 35/80\n",
      "1375/1375 [==============================] - 8s 6ms/sample - loss: 0.0658 - acc: 0.9782 - val_loss: 0.1725 - val_acc: 0.9412\n",
      "Epoch 36/80\n",
      "1375/1375 [==============================] - 8s 6ms/sample - loss: 0.0543 - acc: 0.9804 - val_loss: 0.1864 - val_acc: 0.9412\n",
      "Epoch 37/80\n",
      "1375/1375 [==============================] - 8s 6ms/sample - loss: 0.0552 - acc: 0.9840 - val_loss: 0.1640 - val_acc: 0.9542\n",
      "Epoch 38/80\n",
      "1375/1375 [==============================] - 8s 6ms/sample - loss: 0.0530 - acc: 0.9789 - val_loss: 0.1589 - val_acc: 0.9673\n",
      "Epoch 39/80\n",
      "1375/1375 [==============================] - 8s 6ms/sample - loss: 0.0495 - acc: 0.9847 - val_loss: 0.2167 - val_acc: 0.9477\n",
      "Epoch 40/80\n",
      "1375/1375 [==============================] - 8s 6ms/sample - loss: 0.0602 - acc: 0.9753 - val_loss: 0.1808 - val_acc: 0.9477\n",
      "Epoch 41/80\n",
      "1375/1375 [==============================] - 8s 6ms/sample - loss: 0.0457 - acc: 0.9840 - val_loss: 0.1737 - val_acc: 0.9477\n",
      "Epoch 42/80\n",
      "1375/1375 [==============================] - 8s 6ms/sample - loss: 0.0429 - acc: 0.9847 - val_loss: 0.1662 - val_acc: 0.9477\n",
      "Epoch 43/80\n",
      "1375/1375 [==============================] - 8s 6ms/sample - loss: 0.0324 - acc: 0.9913 - val_loss: 0.1729 - val_acc: 0.9477\n",
      "Epoch 44/80\n",
      "1375/1375 [==============================] - 8s 6ms/sample - loss: 0.0301 - acc: 0.9942 - val_loss: 0.1707 - val_acc: 0.9412\n",
      "Epoch 45/80\n",
      "1375/1375 [==============================] - 8s 6ms/sample - loss: 0.0283 - acc: 0.9920 - val_loss: 0.1815 - val_acc: 0.9412\n",
      "Epoch 46/80\n",
      "1375/1375 [==============================] - 8s 6ms/sample - loss: 0.0279 - acc: 0.9913 - val_loss: 0.2092 - val_acc: 0.9477\n",
      "Epoch 47/80\n",
      "1375/1375 [==============================] - 8s 6ms/sample - loss: 0.0339 - acc: 0.9898 - val_loss: 0.2252 - val_acc: 0.9412\n",
      "Epoch 48/80\n",
      "1375/1375 [==============================] - 8s 6ms/sample - loss: 0.0232 - acc: 0.9942 - val_loss: 0.1974 - val_acc: 0.9346\n",
      "Epoch 49/80\n",
      "1375/1375 [==============================] - 8s 6ms/sample - loss: 0.0326 - acc: 0.9876 - val_loss: 0.2022 - val_acc: 0.9346\n",
      "Epoch 50/80\n",
      "1375/1375 [==============================] - 8s 6ms/sample - loss: 0.0162 - acc: 0.9964 - val_loss: 0.2571 - val_acc: 0.9477\n",
      "Epoch 51/80\n",
      "1375/1375 [==============================] - 8s 6ms/sample - loss: 0.0196 - acc: 0.9949 - val_loss: 0.2193 - val_acc: 0.9477\n",
      "Epoch 52/80\n",
      "1375/1375 [==============================] - 8s 6ms/sample - loss: 0.0180 - acc: 0.9935 - val_loss: 0.2453 - val_acc: 0.9346\n",
      "Epoch 53/80\n",
      "1375/1375 [==============================] - 8s 6ms/sample - loss: 0.0174 - acc: 0.9971 - val_loss: 0.2208 - val_acc: 0.9412\n",
      "Epoch 54/80\n",
      "1375/1375 [==============================] - 8s 6ms/sample - loss: 0.0101 - acc: 0.9985 - val_loss: 0.2379 - val_acc: 0.9412\n",
      "Epoch 55/80\n",
      "1375/1375 [==============================] - 8s 6ms/sample - loss: 0.0122 - acc: 0.9978 - val_loss: 0.2697 - val_acc: 0.9346\n",
      "Epoch 56/80\n",
      "1375/1375 [==============================] - 8s 6ms/sample - loss: 0.0554 - acc: 0.9753 - val_loss: 0.2758 - val_acc: 0.9216\n",
      "Epoch 57/80\n",
      "1375/1375 [==============================] - 8s 6ms/sample - loss: 0.0132 - acc: 0.9956 - val_loss: 0.2474 - val_acc: 0.9216\n",
      "Epoch 58/80\n",
      "1375/1375 [==============================] - 8s 6ms/sample - loss: 0.0133 - acc: 0.9956 - val_loss: 0.2520 - val_acc: 0.9346\n",
      "Epoch 59/80\n",
      "1375/1375 [==============================] - 8s 6ms/sample - loss: 0.0084 - acc: 0.9993 - val_loss: 0.2334 - val_acc: 0.9346\n",
      "Epoch 60/80\n",
      "1375/1375 [==============================] - 8s 6ms/sample - loss: 0.0049 - acc: 1.0000 - val_loss: 0.2462 - val_acc: 0.9346\n",
      "Epoch 61/80\n",
      "1375/1375 [==============================] - 8s 6ms/sample - loss: 0.0053 - acc: 1.0000 - val_loss: 0.2571 - val_acc: 0.9281\n",
      "Epoch 62/80\n",
      "1375/1375 [==============================] - 8s 6ms/sample - loss: 0.0031 - acc: 1.0000 - val_loss: 0.2787 - val_acc: 0.9346\n",
      "Epoch 63/80\n",
      "1375/1375 [==============================] - 8s 6ms/sample - loss: 0.0031 - acc: 1.0000 - val_loss: 0.2706 - val_acc: 0.9346\n",
      "Epoch 64/80\n",
      "1375/1375 [==============================] - 8s 6ms/sample - loss: 0.0226 - acc: 0.9913 - val_loss: 0.3496 - val_acc: 0.9281\n",
      "Epoch 65/80\n",
      "1375/1375 [==============================] - 8s 6ms/sample - loss: 0.0079 - acc: 0.9985 - val_loss: 0.3259 - val_acc: 0.9216\n",
      "Epoch 66/80\n",
      "1375/1375 [==============================] - 8s 6ms/sample - loss: 0.0045 - acc: 0.9993 - val_loss: 0.3343 - val_acc: 0.9346\n",
      "Epoch 67/80\n",
      "1375/1375 [==============================] - 8s 6ms/sample - loss: 0.0053 - acc: 0.9985 - val_loss: 0.3357 - val_acc: 0.9412\n",
      "Epoch 68/80\n",
      "1375/1375 [==============================] - 8s 6ms/sample - loss: 0.0291 - acc: 0.9905 - val_loss: 0.2614 - val_acc: 0.9412\n",
      "Epoch 69/80\n",
      "1375/1375 [==============================] - 8s 6ms/sample - loss: 0.0032 - acc: 1.0000 - val_loss: 0.2390 - val_acc: 0.9542\n",
      "Epoch 70/80\n",
      "1375/1375 [==============================] - 8s 6ms/sample - loss: 0.0037 - acc: 0.9993 - val_loss: 0.2818 - val_acc: 0.9412\n",
      "Epoch 71/80\n",
      "1375/1375 [==============================] - 8s 6ms/sample - loss: 0.0034 - acc: 1.0000 - val_loss: 0.2790 - val_acc: 0.9412\n",
      "Epoch 72/80\n",
      "1375/1375 [==============================] - 8s 6ms/sample - loss: 0.0016 - acc: 1.0000 - val_loss: 0.2820 - val_acc: 0.9412\n",
      "Epoch 73/80\n",
      "1375/1375 [==============================] - 8s 6ms/sample - loss: 0.0013 - acc: 1.0000 - val_loss: 0.2776 - val_acc: 0.9477\n",
      "Epoch 74/80\n",
      "1375/1375 [==============================] - 8s 6ms/sample - loss: 0.0272 - acc: 0.9898 - val_loss: 0.5193 - val_acc: 0.9346\n",
      "Epoch 75/80\n",
      "1375/1375 [==============================] - 8s 6ms/sample - loss: 0.0615 - acc: 0.9789 - val_loss: 0.3376 - val_acc: 0.9150\n",
      "Epoch 76/80\n",
      "1375/1375 [==============================] - 8s 6ms/sample - loss: 0.0187 - acc: 0.9920 - val_loss: 0.3327 - val_acc: 0.9346\n",
      "Epoch 77/80\n",
      "1375/1375 [==============================] - 8s 6ms/sample - loss: 0.0046 - acc: 0.9985 - val_loss: 0.2805 - val_acc: 0.9412\n",
      "Epoch 78/80\n",
      "1375/1375 [==============================] - 8s 6ms/sample - loss: 0.0025 - acc: 1.0000 - val_loss: 0.2938 - val_acc: 0.9412\n",
      "Epoch 79/80\n",
      "1375/1375 [==============================] - 8s 6ms/sample - loss: 0.0018 - acc: 1.0000 - val_loss: 0.2987 - val_acc: 0.9412\n",
      "Epoch 80/80\n",
      "1375/1375 [==============================] - 8s 6ms/sample - loss: 0.0018 - acc: 1.0000 - val_loss: 0.2853 - val_acc: 0.9346\n"
     ]
    }
   ],
   "source": [
    "#fit the model\n",
    "cnn=model.fit(x_train,y_train,epochs=80,batch_size=10,verbose=1,callbacks=None,validation_split=0.1)"
   ]
  },
  {
   "cell_type": "code",
   "execution_count": 0,
   "metadata": {
    "colab": {
     "base_uri": "https://localhost:8080/",
     "height": 34
    },
    "colab_type": "code",
    "id": "2iV1D09wa7vE",
    "outputId": "0885e490-1596-404a-fd44-263f034db287"
   },
   "outputs": [
    {
     "data": {
      "text/plain": [
       "(64, 64, 3)"
      ]
     },
     "execution_count": 57,
     "metadata": {
      "tags": []
     },
     "output_type": "execute_result"
    }
   ],
   "source": [
    "x_test[1].shape"
   ]
  },
  {
   "cell_type": "code",
   "execution_count": 0,
   "metadata": {
    "colab": {
     "base_uri": "https://localhost:8080/",
     "height": 34
    },
    "colab_type": "code",
    "id": "lvWpD63FbIof",
    "outputId": "501d9b0a-3c15-494e-87e9-49f7fda1ef05"
   },
   "outputs": [
    {
     "data": {
      "text/plain": [
       "0.0"
      ]
     },
     "execution_count": 58,
     "metadata": {
      "tags": []
     },
     "output_type": "execute_result"
    }
   ],
   "source": [
    "y_test[1]"
   ]
  },
  {
   "cell_type": "code",
   "execution_count": 0,
   "metadata": {
    "colab": {
     "base_uri": "https://localhost:8080/",
     "height": 34
    },
    "colab_type": "code",
    "id": "KsKLB9QubLZm",
    "outputId": "4cf1e903-083d-4891-b3c1-f84fdd81b5ff"
   },
   "outputs": [
    {
     "data": {
      "text/plain": [
       "array([[0]], dtype=int32)"
      ]
     },
     "execution_count": 59,
     "metadata": {
      "tags": []
     },
     "output_type": "execute_result"
    }
   ],
   "source": [
    "y_test_pred=model.predict_classes(x_test[1:2])\n",
    "y_test_pred"
   ]
  },
  {
   "cell_type": "code",
   "execution_count": 0,
   "metadata": {
    "colab": {
     "base_uri": "https://localhost:8080/",
     "height": 34
    },
    "colab_type": "code",
    "id": "wOx2T1NhbQBR",
    "outputId": "a87f23a8-5e3e-46c4-aeca-41dadd892cb8"
   },
   "outputs": [
    {
     "data": {
      "text/plain": [
       "array([[0.]], dtype=float32)"
      ]
     },
     "execution_count": 60,
     "metadata": {
      "tags": []
     },
     "output_type": "execute_result"
    }
   ],
   "source": [
    "y_test_pred=model.predict(x_test[1:2])*100\n",
    "np.round(y_test_pred,2)"
   ]
  },
  {
   "cell_type": "markdown",
   "metadata": {},
   "source": [
    "### plot the graph between the loss and epochs so that validation loss will be comapred to the training line by this we have to check the model is overfitted or underfit by this we can decide the epochs "
   ]
  },
  {
   "cell_type": "code",
   "execution_count": 0,
   "metadata": {
    "colab": {
     "base_uri": "https://localhost:8080/",
     "height": 295
    },
    "colab_type": "code",
    "id": "QQaGaoHAbTbU",
    "outputId": "093587b0-52aa-4344-b1a7-8b2222bd9ff9"
   },
   "outputs": [
    {
     "data": {
      "image/png": "[encoded data removed]",
      "text/plain": [
       "<Figure size 432x288 with 1 Axes>"
      ]
     },
     "metadata": {
      "tags": []
     },
     "output_type": "display_data"
    }
   ],
   "source": [
    "plt.plot(cnn.history['loss'])\n",
    "plt.plot(cnn.history['val_loss'])\n",
    "plt.title('Training and validation loss')\n",
    "plt.xlabel('Epochs')\n",
    "plt.ylabel('Loss')\n",
    "plt.legend(['training','validation'],loc='best')\n",
    "plt.show()"
   ]
  },
  {
   "cell_type": "code",
   "execution_count": 0,
   "metadata": {
    "colab": {},
    "colab_type": "code",
    "id": "dGSE_6HdbYxn"
   },
   "outputs": [],
   "source": [
    "from tensorflow.keras.wrappers.scikit_learn import KerasClassifier\n",
    "from sklearn.model_selection import GridSearchCV"
   ]
  },
  {
   "cell_type": "code",
   "execution_count": 0,
   "metadata": {
    "colab": {},
    "colab_type": "code",
    "id": "QZ0EHv7ZbdoJ"
   },
   "outputs": [],
   "source": [
    "def creat_cnn_model(kernel_size):\n",
    "\n",
    "    model=models.Sequential()\n",
    "    model.add(layers.Conv2D(16,kernel_size=kernel_size,activation='relu',input_shape=(64,64,3)))\n",
    "    model.add(layers.MaxPooling2D(2,2))\n",
    "    model.add(layers.Flatten())\n",
    "    model.add(layers.Dense(64,activation='relu'))\n",
    "    model.add(layers.Dense(1,activation='sigmoid'))\n",
    "\n",
    "    model.compile(optimizer='adam',loss='binary_crossentropy',metrics=['accuracy'])\n",
    "\n",
    "    model.summary()\n",
    "\n",
    "    return model"
   ]
  },
  {
   "cell_type": "code",
   "execution_count": 0,
   "metadata": {
    "colab": {},
    "colab_type": "code",
    "id": "73407T6Ubqor"
   },
   "outputs": [],
   "source": [
    "param_grid=dict(kernel_size=[(5,5),(3,3)],\n",
    "                epochs=[5]\n",
    "                )"
   ]
  },
  {
   "cell_type": "code",
   "execution_count": 0,
   "metadata": {
    "colab": {
     "base_uri": "https://localhost:8080/",
     "height": 1000
    },
    "colab_type": "code",
    "id": "1yh_Oj3Xbwoh",
    "outputId": "7f92b5a1-381c-4804-a9d3-41c7faf78d96"
   },
   "outputs": [
    {
     "name": "stdout",
     "output_type": "stream",
     "text": [
      "Model: \"sequential_1\"\n",
      "_________________________________________________________________\n",
      "Layer (type)                 Output Shape              Param #   \n",
      "=================================================================\n",
      "conv2d_3 (Conv2D)            (None, 60, 60, 16)        1216      \n",
      "_________________________________________________________________\n",
      "max_pooling2d_3 (MaxPooling2 (None, 30, 30, 16)        0         \n",
      "_________________________________________________________________\n",
      "flatten_1 (Flatten)          (None, 14400)             0         \n",
      "_________________________________________________________________\n",
      "dense_2 (Dense)              (None, 64)                921664    \n",
      "_________________________________________________________________\n",
      "dense_3 (Dense)              (None, 1)                 65        \n",
      "=================================================================\n",
      "Total params: 922,945\n",
      "Trainable params: 922,945\n",
      "Non-trainable params: 0\n",
      "_________________________________________________________________\n",
      "Train on 1018 samples\n",
      "Epoch 1/5\n",
      "1018/1018 - 3s - loss: 0.6343 - acc: 0.5589\n",
      "Epoch 2/5\n",
      "1018/1018 - 2s - loss: 0.5259 - acc: 0.7417\n",
      "Epoch 3/5\n",
      "1018/1018 - 2s - loss: 0.5064 - acc: 0.7652\n",
      "Epoch 4/5\n",
      "1018/1018 - 2s - loss: 0.4954 - acc: 0.7731\n",
      "Epoch 5/5\n",
      "1018/1018 - 2s - loss: 0.4884 - acc: 0.7790\n",
      "510/510 - 0s - loss: 0.4867 - acc: 0.7824\n",
      "Model: \"sequential_2\"\n",
      "_________________________________________________________________\n",
      "Layer (type)                 Output Shape              Param #   \n",
      "=================================================================\n",
      "conv2d_4 (Conv2D)            (None, 60, 60, 16)        1216      \n",
      "_________________________________________________________________\n",
      "max_pooling2d_4 (MaxPooling2 (None, 30, 30, 16)        0         \n",
      "_________________________________________________________________\n",
      "flatten_2 (Flatten)          (None, 14400)             0         \n",
      "_________________________________________________________________\n",
      "dense_4 (Dense)              (None, 64)                921664    \n",
      "_________________________________________________________________\n",
      "dense_5 (Dense)              (None, 1)                 65        \n",
      "=================================================================\n",
      "Total params: 922,945\n",
      "Trainable params: 922,945\n",
      "Non-trainable params: 0\n",
      "_________________________________________________________________\n",
      "Train on 1019 samples\n",
      "Epoch 1/5\n",
      "1019/1019 - 2s - loss: 0.6221 - acc: 0.6693\n",
      "Epoch 2/5\n",
      "1019/1019 - 2s - loss: 0.5224 - acc: 0.7429\n",
      "Epoch 3/5\n",
      "1019/1019 - 2s - loss: 0.4774 - acc: 0.7655\n",
      "Epoch 4/5\n",
      "1019/1019 - 2s - loss: 0.4500 - acc: 0.7743\n",
      "Epoch 5/5\n",
      "1019/1019 - 2s - loss: 0.4244 - acc: 0.8145\n",
      "509/509 - 0s - loss: 0.4568 - acc: 0.7780\n",
      "Model: \"sequential_3\"\n",
      "_________________________________________________________________\n",
      "Layer (type)                 Output Shape              Param #   \n",
      "=================================================================\n",
      "conv2d_5 (Conv2D)            (None, 60, 60, 16)        1216      \n",
      "_________________________________________________________________\n",
      "max_pooling2d_5 (MaxPooling2 (None, 30, 30, 16)        0         \n",
      "_________________________________________________________________\n",
      "flatten_3 (Flatten)          (None, 14400)             0         \n",
      "_________________________________________________________________\n",
      "dense_6 (Dense)              (None, 64)                921664    \n",
      "_________________________________________________________________\n",
      "dense_7 (Dense)              (None, 1)                 65        \n",
      "=================================================================\n",
      "Total params: 922,945\n",
      "Trainable params: 922,945\n",
      "Non-trainable params: 0\n",
      "_________________________________________________________________\n",
      "Train on 1019 samples\n",
      "Epoch 1/5\n",
      "1019/1019 - 3s - loss: 0.6604 - acc: 0.6585\n",
      "Epoch 2/5\n",
      "1019/1019 - 2s - loss: 0.5631 - acc: 0.7242\n",
      "Epoch 3/5\n",
      "1019/1019 - 2s - loss: 0.5120 - acc: 0.7713\n",
      "Epoch 4/5\n",
      "1019/1019 - 2s - loss: 0.4972 - acc: 0.7655\n",
      "Epoch 5/5\n",
      "1019/1019 - 2s - loss: 0.4676 - acc: 0.7821\n",
      "509/509 - 0s - loss: 0.4612 - acc: 0.7583\n",
      "Model: \"sequential_4\"\n",
      "_________________________________________________________________\n",
      "Layer (type)                 Output Shape              Param #   \n",
      "=================================================================\n",
      "conv2d_6 (Conv2D)            (None, 62, 62, 16)        448       \n",
      "_________________________________________________________________\n",
      "max_pooling2d_6 (MaxPooling2 (None, 31, 31, 16)        0         \n",
      "_________________________________________________________________\n",
      "flatten_4 (Flatten)          (None, 15376)             0         \n",
      "_________________________________________________________________\n",
      "dense_8 (Dense)              (None, 64)                984128    \n",
      "_________________________________________________________________\n",
      "dense_9 (Dense)              (None, 1)                 65        \n",
      "=================================================================\n",
      "Total params: 984,641\n",
      "Trainable params: 984,641\n",
      "Non-trainable params: 0\n",
      "_________________________________________________________________\n",
      "Train on 1018 samples\n",
      "Epoch 1/5\n",
      "1018/1018 - 2s - loss: 0.6634 - acc: 0.6876\n",
      "Epoch 2/5\n",
      "1018/1018 - 2s - loss: 0.5922 - acc: 0.7191\n",
      "Epoch 3/5\n",
      "1018/1018 - 2s - loss: 0.6098 - acc: 0.6582\n",
      "Epoch 4/5\n",
      "1018/1018 - 2s - loss: 0.5491 - acc: 0.7446\n",
      "Epoch 5/5\n",
      "1018/1018 - 2s - loss: 0.5284 - acc: 0.7495\n",
      "510/510 - 0s - loss: 0.5492 - acc: 0.7706\n",
      "Model: \"sequential_5\"\n",
      "_________________________________________________________________\n",
      "Layer (type)                 Output Shape              Param #   \n",
      "=================================================================\n",
      "conv2d_7 (Conv2D)            (None, 62, 62, 16)        448       \n",
      "_________________________________________________________________\n",
      "max_pooling2d_7 (MaxPooling2 (None, 31, 31, 16)        0         \n",
      "_________________________________________________________________\n",
      "flatten_5 (Flatten)          (None, 15376)             0         \n",
      "_________________________________________________________________\n",
      "dense_10 (Dense)             (None, 64)                984128    \n",
      "_________________________________________________________________\n",
      "dense_11 (Dense)             (None, 1)                 65        \n",
      "=================================================================\n",
      "Total params: 984,641\n",
      "Trainable params: 984,641\n",
      "Non-trainable params: 0\n",
      "_________________________________________________________________\n",
      "Train on 1019 samples\n",
      "Epoch 1/5\n",
      "1019/1019 - 2s - loss: 0.6383 - acc: 0.6644\n",
      "Epoch 2/5\n",
      "1019/1019 - 2s - loss: 0.5739 - acc: 0.7036\n",
      "Epoch 3/5\n",
      "1019/1019 - 2s - loss: 0.5399 - acc: 0.7311\n",
      "Epoch 4/5\n",
      "1019/1019 - 2s - loss: 0.5128 - acc: 0.7547\n",
      "Epoch 5/5\n",
      "1019/1019 - 2s - loss: 0.4940 - acc: 0.7605\n",
      "509/509 - 0s - loss: 0.4924 - acc: 0.7819\n",
      "Model: \"sequential_6\"\n",
      "_________________________________________________________________\n",
      "Layer (type)                 Output Shape              Param #   \n",
      "=================================================================\n",
      "conv2d_8 (Conv2D)            (None, 62, 62, 16)        448       \n",
      "_________________________________________________________________\n",
      "max_pooling2d_8 (MaxPooling2 (None, 31, 31, 16)        0         \n",
      "_________________________________________________________________\n",
      "flatten_6 (Flatten)          (None, 15376)             0         \n",
      "_________________________________________________________________\n",
      "dense_12 (Dense)             (None, 64)                984128    \n",
      "_________________________________________________________________\n",
      "dense_13 (Dense)             (None, 1)                 65        \n",
      "=================================================================\n",
      "Total params: 984,641\n",
      "Trainable params: 984,641\n",
      "Non-trainable params: 0\n",
      "_________________________________________________________________\n",
      "Train on 1019 samples\n",
      "Epoch 1/5\n",
      "1019/1019 - 2s - loss: 0.6797 - acc: 0.5535\n",
      "Epoch 2/5\n",
      "1019/1019 - 2s - loss: 0.6080 - acc: 0.6899\n",
      "Epoch 3/5\n",
      "1019/1019 - 2s - loss: 0.5388 - acc: 0.7488\n",
      "Epoch 4/5\n",
      "1019/1019 - 2s - loss: 0.5128 - acc: 0.7664\n",
      "Epoch 5/5\n",
      "1019/1019 - 2s - loss: 0.5037 - acc: 0.7547\n",
      "509/509 - 0s - loss: 0.4892 - acc: 0.7485\n",
      "Model: \"sequential_7\"\n",
      "_________________________________________________________________\n",
      "Layer (type)                 Output Shape              Param #   \n",
      "=================================================================\n",
      "conv2d_9 (Conv2D)            (None, 60, 60, 16)        1216      \n",
      "_________________________________________________________________\n",
      "max_pooling2d_9 (MaxPooling2 (None, 30, 30, 16)        0         \n",
      "_________________________________________________________________\n",
      "flatten_7 (Flatten)          (None, 14400)             0         \n",
      "_________________________________________________________________\n",
      "dense_14 (Dense)             (None, 64)                921664    \n",
      "_________________________________________________________________\n",
      "dense_15 (Dense)             (None, 1)                 65        \n",
      "=================================================================\n",
      "Total params: 922,945\n",
      "Trainable params: 922,945\n",
      "Non-trainable params: 0\n",
      "_________________________________________________________________\n",
      "Train on 1528 samples\n",
      "Epoch 1/5\n",
      "1528/1528 - 4s - loss: 0.6219 - acc: 0.6885\n",
      "Epoch 2/5\n",
      "1528/1528 - 4s - loss: 0.4996 - acc: 0.7683\n",
      "Epoch 3/5\n",
      "1528/1528 - 4s - loss: 0.4517 - acc: 0.7775\n",
      "Epoch 4/5\n",
      "1528/1528 - 4s - loss: 0.3953 - acc: 0.8043\n",
      "Epoch 5/5\n",
      "1528/1528 - 4s - loss: 0.3500 - acc: 0.8344\n"
     ]
    }
   ],
   "source": [
    "model=KerasClassifier(build_fn=creat_cnn_model,verbose=2)\n",
    "grid=GridSearchCV(estimator=model,param_grid=param_grid,cv=3)\n",
    "grid_result=grid.fit(x_train,y_train)"
   ]
  },
  {
   "cell_type": "code",
   "execution_count": 0,
   "metadata": {
    "colab": {
     "base_uri": "https://localhost:8080/",
     "height": 34
    },
    "colab_type": "code",
    "id": "KRgjPVGvb0Nd",
    "outputId": "f20d6a1d-1107-4a1a-ccf7-8b2dd4f94ffa"
   },
   "outputs": [
    {
     "data": {
      "text/plain": [
       "{'epochs': 5, 'kernel_size': (5, 5)}"
      ]
     },
     "execution_count": 66,
     "metadata": {
      "tags": []
     },
     "output_type": "execute_result"
    }
   ],
   "source": [
    "#find the best params \n",
    "grid_result.best_params_"
   ]
  },
  {
   "cell_type": "code",
   "execution_count": 0,
   "metadata": {
    "colab": {
     "base_uri": "https://localhost:8080/",
     "height": 34
    },
    "colab_type": "code",
    "id": "SnqHMOJTcJdM",
    "outputId": "152c1785-3b26-4f3e-ef02-9b75245c14d7"
   },
   "outputs": [
    {
     "data": {
      "text/plain": [
       "0.7729057548323851"
      ]
     },
     "execution_count": 67,
     "metadata": {
      "tags": []
     },
     "output_type": "execute_result"
    }
   ],
   "source": [
    "grid_result.best_score_"
   ]
  },
  {
   "cell_type": "code",
   "execution_count": 0,
   "metadata": {
    "colab": {},
    "colab_type": "code",
    "id": "yqFzpWv1cMcP"
   },
   "outputs": [],
   "source": [
    "\n",
    "model=models.Sequential()\n",
    "\n",
    "model.add(layers.Conv2D(16,(5,5),activation='relu',input_shape=(64,64,3)))\n",
    "model.add(layers.MaxPooling2D(2,2))\n",
    "model.add(layers.Flatten())\n",
    "model.add(layers.Dense(64,activation='relu'))\n",
    "model.add(layers.Dense(1,activation='sigmoid'))"
   ]
  },
  {
   "cell_type": "code",
   "execution_count": 0,
   "metadata": {
    "colab": {},
    "colab_type": "code",
    "id": "Mo6SAt9BdjhB"
   },
   "outputs": [],
   "source": [
    "model.compile(optimizer='adam',loss='binary_crossentropy',metrics=['accuracy'])"
   ]
  },
  {
   "cell_type": "code",
   "execution_count": 0,
   "metadata": {
    "colab": {
     "base_uri": "https://localhost:8080/",
     "height": 319
    },
    "colab_type": "code",
    "id": "E_l5brk3dp1v",
    "outputId": "766bfcd6-3157-4703-d10c-03e57aa552a9"
   },
   "outputs": [
    {
     "name": "stdout",
     "output_type": "stream",
     "text": [
      "Model: \"sequential_8\"\n",
      "_________________________________________________________________\n",
      "Layer (type)                 Output Shape              Param #   \n",
      "=================================================================\n",
      "conv2d_10 (Conv2D)           (None, 60, 60, 16)        1216      \n",
      "_________________________________________________________________\n",
      "max_pooling2d_10 (MaxPooling (None, 30, 30, 16)        0         \n",
      "_________________________________________________________________\n",
      "flatten_8 (Flatten)          (None, 14400)             0         \n",
      "_________________________________________________________________\n",
      "dense_16 (Dense)             (None, 64)                921664    \n",
      "_________________________________________________________________\n",
      "dense_17 (Dense)             (None, 1)                 65        \n",
      "=================================================================\n",
      "Total params: 922,945\n",
      "Trainable params: 922,945\n",
      "Non-trainable params: 0\n",
      "_________________________________________________________________\n"
     ]
    }
   ],
   "source": [
    "model.summary()"
   ]
  },
  {
   "cell_type": "code",
   "execution_count": 0,
   "metadata": {
    "colab": {
     "base_uri": "https://localhost:8080/",
     "height": 1000
    },
    "colab_type": "code",
    "id": "bXjOPC_gdwEg",
    "outputId": "1013aa34-28fa-4c61-f02d-db2c42227287"
   },
   "outputs": [
    {
     "name": "stdout",
     "output_type": "stream",
     "text": [
      "Train on 1375 samples, validate on 153 samples\n",
      "Epoch 1/40\n",
      "1375/1375 [==============================] - 5s 4ms/sample - loss: 0.5460 - acc: 0.6960 - val_loss: 0.4250 - val_acc: 0.7908\n",
      "Epoch 2/40\n",
      "1375/1375 [==============================] - 5s 3ms/sample - loss: 0.4698 - acc: 0.7644 - val_loss: 0.4043 - val_acc: 0.8039\n",
      "Epoch 3/40\n",
      "1375/1375 [==============================] - 5s 3ms/sample - loss: 0.4475 - acc: 0.7724 - val_loss: 0.3731 - val_acc: 0.8301\n",
      "Epoch 4/40\n",
      "1375/1375 [==============================] - 5s 3ms/sample - loss: 0.4286 - acc: 0.7760 - val_loss: 0.3786 - val_acc: 0.8039\n",
      "Epoch 5/40\n",
      "1375/1375 [==============================] - 5s 3ms/sample - loss: 0.3961 - acc: 0.7825 - val_loss: 0.3781 - val_acc: 0.8039\n",
      "Epoch 6/40\n",
      "1375/1375 [==============================] - 5s 3ms/sample - loss: 0.3746 - acc: 0.7833 - val_loss: 0.3876 - val_acc: 0.8039\n",
      "Epoch 7/40\n",
      "1375/1375 [==============================] - 4s 3ms/sample - loss: 0.3470 - acc: 0.8233 - val_loss: 0.3049 - val_acc: 0.8627\n",
      "Epoch 8/40\n",
      "1375/1375 [==============================] - 5s 3ms/sample - loss: 0.3455 - acc: 0.8407 - val_loss: 0.3793 - val_acc: 0.8235\n",
      "Epoch 9/40\n",
      "1375/1375 [==============================] - 5s 3ms/sample - loss: 0.3168 - acc: 0.8633 - val_loss: 0.3350 - val_acc: 0.8366\n",
      "Epoch 10/40\n",
      "1375/1375 [==============================] - 4s 3ms/sample - loss: 0.2945 - acc: 0.8742 - val_loss: 0.3471 - val_acc: 0.8235\n",
      "Epoch 11/40\n",
      "1375/1375 [==============================] - 4s 3ms/sample - loss: 0.2795 - acc: 0.8815 - val_loss: 0.2803 - val_acc: 0.8824\n",
      "Epoch 12/40\n",
      "1375/1375 [==============================] - 5s 3ms/sample - loss: 0.2404 - acc: 0.9025 - val_loss: 0.3095 - val_acc: 0.8889\n",
      "Epoch 13/40\n",
      "1375/1375 [==============================] - 5s 3ms/sample - loss: 0.2202 - acc: 0.9076 - val_loss: 0.2305 - val_acc: 0.9216\n",
      "Epoch 14/40\n",
      "1375/1375 [==============================] - 4s 3ms/sample - loss: 0.2091 - acc: 0.9185 - val_loss: 0.2542 - val_acc: 0.8954\n",
      "Epoch 15/40\n",
      "1375/1375 [==============================] - 4s 3ms/sample - loss: 0.1871 - acc: 0.9236 - val_loss: 0.2229 - val_acc: 0.9216\n",
      "Epoch 16/40\n",
      "1375/1375 [==============================] - 5s 3ms/sample - loss: 0.1802 - acc: 0.9207 - val_loss: 0.2680 - val_acc: 0.8889\n",
      "Epoch 17/40\n",
      "1375/1375 [==============================] - 5s 3ms/sample - loss: 0.1622 - acc: 0.9331 - val_loss: 0.2295 - val_acc: 0.9150\n",
      "Epoch 18/40\n",
      "1375/1375 [==============================] - 5s 3ms/sample - loss: 0.1531 - acc: 0.9404 - val_loss: 0.2275 - val_acc: 0.9150\n",
      "Epoch 19/40\n",
      "1375/1375 [==============================] - 5s 3ms/sample - loss: 0.1499 - acc: 0.9418 - val_loss: 0.2107 - val_acc: 0.9216\n",
      "Epoch 20/40\n",
      "1375/1375 [==============================] - 5s 3ms/sample - loss: 0.1268 - acc: 0.9535 - val_loss: 0.1879 - val_acc: 0.9346\n",
      "Epoch 21/40\n",
      "1375/1375 [==============================] - 5s 3ms/sample - loss: 0.1289 - acc: 0.9455 - val_loss: 0.1600 - val_acc: 0.9281\n",
      "Epoch 22/40\n",
      "1375/1375 [==============================] - 5s 3ms/sample - loss: 0.1082 - acc: 0.9622 - val_loss: 0.1695 - val_acc: 0.9412\n",
      "Epoch 23/40\n",
      "1375/1375 [==============================] - 5s 3ms/sample - loss: 0.1052 - acc: 0.9629 - val_loss: 0.1634 - val_acc: 0.9346\n",
      "Epoch 24/40\n",
      "1375/1375 [==============================] - 5s 3ms/sample - loss: 0.0891 - acc: 0.9745 - val_loss: 0.1811 - val_acc: 0.9477\n",
      "Epoch 25/40\n",
      "1375/1375 [==============================] - 5s 3ms/sample - loss: 0.0847 - acc: 0.9745 - val_loss: 0.1661 - val_acc: 0.9412\n",
      "Epoch 26/40\n",
      "1375/1375 [==============================] - 4s 3ms/sample - loss: 0.0781 - acc: 0.9760 - val_loss: 0.1814 - val_acc: 0.9150\n",
      "Epoch 27/40\n",
      "1375/1375 [==============================] - 5s 3ms/sample - loss: 0.0790 - acc: 0.9753 - val_loss: 0.1540 - val_acc: 0.9346\n",
      "Epoch 28/40\n",
      "1375/1375 [==============================] - 4s 3ms/sample - loss: 0.0645 - acc: 0.9789 - val_loss: 0.1457 - val_acc: 0.9608\n",
      "Epoch 29/40\n",
      "1375/1375 [==============================] - 4s 3ms/sample - loss: 0.0575 - acc: 0.9855 - val_loss: 0.1607 - val_acc: 0.9608\n",
      "Epoch 30/40\n",
      "1375/1375 [==============================] - 5s 3ms/sample - loss: 0.0592 - acc: 0.9840 - val_loss: 0.1214 - val_acc: 0.9739\n",
      "Epoch 31/40\n",
      "1375/1375 [==============================] - 5s 3ms/sample - loss: 0.0536 - acc: 0.9840 - val_loss: 0.1397 - val_acc: 0.9477\n",
      "Epoch 32/40\n",
      "1375/1375 [==============================] - 5s 3ms/sample - loss: 0.0443 - acc: 0.9927 - val_loss: 0.1293 - val_acc: 0.9477\n",
      "Epoch 33/40\n",
      "1375/1375 [==============================] - 5s 3ms/sample - loss: 0.0433 - acc: 0.9905 - val_loss: 0.1440 - val_acc: 0.9542\n",
      "Epoch 34/40\n",
      "1375/1375 [==============================] - 5s 3ms/sample - loss: 0.0397 - acc: 0.9905 - val_loss: 0.1611 - val_acc: 0.9412\n",
      "Epoch 35/40\n",
      "1375/1375 [==============================] - 4s 3ms/sample - loss: 0.0350 - acc: 0.9942 - val_loss: 0.1267 - val_acc: 0.9673\n",
      "Epoch 36/40\n",
      "1375/1375 [==============================] - 5s 3ms/sample - loss: 0.0307 - acc: 0.9942 - val_loss: 0.1323 - val_acc: 0.9477\n",
      "Epoch 37/40\n",
      "1375/1375 [==============================] - 5s 3ms/sample - loss: 0.0253 - acc: 0.9964 - val_loss: 0.1356 - val_acc: 0.9608\n",
      "Epoch 38/40\n",
      "1375/1375 [==============================] - 5s 3ms/sample - loss: 0.0226 - acc: 0.9978 - val_loss: 0.1543 - val_acc: 0.9412\n",
      "Epoch 39/40\n",
      "1375/1375 [==============================] - 5s 3ms/sample - loss: 0.0216 - acc: 0.9985 - val_loss: 0.1423 - val_acc: 0.9608\n",
      "Epoch 40/40\n",
      "1375/1375 [==============================] - 5s 3ms/sample - loss: 0.0186 - acc: 0.9993 - val_loss: 0.1342 - val_acc: 0.9608\n"
     ]
    }
   ],
   "source": [
    "cnn=model.fit(x_train,y_train,epochs=40,batch_size=10,verbose=1,callbacks=None,validation_split=0.1)"
   ]
  },
  {
   "cell_type": "code",
   "execution_count": 0,
   "metadata": {
    "colab": {
     "base_uri": "https://localhost:8080/",
     "height": 1000
    },
    "colab_type": "code",
    "id": "3RJaXZZ8d-i9",
    "outputId": "d5c57a3d-f77c-404a-b133-f079716a7fc4"
   },
   "outputs": [
    {
     "data": {
      "text/plain": [
       "array([[1],\n",
       "       [0],\n",
       "       [0],\n",
       "       [0],\n",
       "       [1],\n",
       "       [0],\n",
       "       [1],\n",
       "       [0],\n",
       "       [1],\n",
       "       [1],\n",
       "       [1],\n",
       "       [1],\n",
       "       [0],\n",
       "       [0],\n",
       "       [0],\n",
       "       [0],\n",
       "       [0],\n",
       "       [0],\n",
       "       [0],\n",
       "       [0],\n",
       "       [1],\n",
       "       [0],\n",
       "       [1],\n",
       "       [1],\n",
       "       [0],\n",
       "       [0],\n",
       "       [1],\n",
       "       [0],\n",
       "       [1],\n",
       "       [1],\n",
       "       [1],\n",
       "       [0],\n",
       "       [1],\n",
       "       [0],\n",
       "       [1],\n",
       "       [1],\n",
       "       [1],\n",
       "       [0],\n",
       "       [1],\n",
       "       [0],\n",
       "       [0],\n",
       "       [1],\n",
       "       [0],\n",
       "       [1],\n",
       "       [1],\n",
       "       [1],\n",
       "       [1],\n",
       "       [0],\n",
       "       [0],\n",
       "       [1],\n",
       "       [1],\n",
       "       [0],\n",
       "       [0],\n",
       "       [1],\n",
       "       [0],\n",
       "       [1],\n",
       "       [0],\n",
       "       [0],\n",
       "       [0],\n",
       "       [1]], dtype=int32)"
      ]
     },
     "execution_count": 72,
     "metadata": {
      "tags": []
     },
     "output_type": "execute_result"
    }
   ],
   "source": [
    "y_test_pred=model.predict_classes(x_test)\n",
    "y_test_pred"
   ]
  },
  {
   "cell_type": "markdown",
   "metadata": {},
   "source": [
    "### best score evaluated after taking the epoch as 80 and done 3 convolutional layers"
   ]
  },
  {
   "cell_type": "code",
   "execution_count": 0,
   "metadata": {
    "colab": {
     "base_uri": "https://localhost:8080/",
     "height": 34
    },
    "colab_type": "code",
    "id": "PNHEIeeMeEwM",
    "outputId": "3400782a-ba25-4d33-fd48-2197efa11d48"
   },
   "outputs": [
    {
     "data": {
      "text/plain": [
       "[0.2755504667758942, 0.9166667]"
      ]
     },
     "execution_count": 73,
     "metadata": {
      "tags": []
     },
     "output_type": "execute_result"
    }
   ],
   "source": [
    "model.evaluate(x_test,y_test,verbose=0)"
   ]
  },
  {
   "cell_type": "code",
   "execution_count": 0,
   "metadata": {
    "colab": {},
    "colab_type": "code",
    "id": "nnPdGZ1Z4XRx"
   },
   "outputs": [],
   "source": []
  },
  {
   "cell_type": "code",
   "execution_count": 0,
   "metadata": {
    "colab": {},
    "colab_type": "code",
    "id": "IzFLodkb1yTg"
   },
   "outputs": [],
   "source": []
  }
 ],
 "metadata": {
  "accelerator": "TPU",
  "colab": {
   "name": "Untitled1.ipynb",
   "provenance": [],
   "toc_visible": true
  },
  "kernelspec": {
   "display_name": "Python 3",
   "language": "python",
   "name": "python3"
  },
  "language_info": {
   "codemirror_mode": {
    "name": "ipython",
    "version": 3
   },
   "file_extension": ".py",
   "mimetype": "text/x-python",
   "name": "python",
   "nbconvert_exporter": "python",
   "pygments_lexer": "ipython3",
   "version": "3.7.3"
  }
 },
 "nbformat": 4,
 "nbformat_minor": 1
}
